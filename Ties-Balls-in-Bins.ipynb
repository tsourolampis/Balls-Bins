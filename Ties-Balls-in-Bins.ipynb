{
 "cells": [
  {
   "cell_type": "code",
   "execution_count": 1,
   "metadata": {
    "collapsed": false
   },
   "outputs": [],
   "source": [
    "%matplotlib inline\n",
    "\n",
    "import random\n",
    "import numpy as np\n",
    "from matplotlib import pyplot as plt\n",
    "\n",
    "\n"
   ]
  },
  {
   "cell_type": "code",
   "execution_count": 2,
   "metadata": {
    "collapsed": true
   },
   "outputs": [],
   "source": [
    "def balls_and_bins(n,k,eps):\n",
    "    ''' Given n balls, throw k ball into them with the following\n",
    "    probability distribution: with probability eps throw the ball \n",
    "    into bin 1, and with probability 1-eps uniform[k]. ''' \n",
    "    a = np.zeros(k) \n",
    "    for i in range(n): \n",
    "        random_number = random.random()\n",
    "        if( random_number <= eps): \n",
    "            a[0]+=1 \n",
    "        else:\n",
    "            a[np.random.randint(k)]+=1      \n",
    "    return a"
   ]
  },
  {
   "cell_type": "code",
   "execution_count": 3,
   "metadata": {
    "collapsed": true
   },
   "outputs": [],
   "source": [
    "def tie(simulations, n,k,eps):\n",
    "    ties = 0 \n",
    "    for i in range(simulations):\n",
    "        a = balls_and_bins(n,k,eps)\n",
    "        a = np.sort(a)\n",
    "        if( a[k-1] == a[k-2]): \n",
    "            ties+=1 \n",
    "    return ties/simulations"
   ]
  },
  {
   "cell_type": "code",
   "execution_count": 4,
   "metadata": {
    "collapsed": true
   },
   "outputs": [],
   "source": [
    "def f(simulations,n,k): \n",
    "    vals = 100 \n",
    "    fraction = np.zeros(vals) \n",
    "    counter = 0\n",
    "    for eps in np.linspace(0,0.2,vals):\n",
    "        fraction[counter] = tie(simulations, n,k,eps)\n",
    "        counter+=1 \n",
    "    plt.plot(np.linspace(0,0.2,vals),fraction)\n",
    "    plt.title('Balls '+repr(n)+\", bins \"+repr(k))\n",
    "    plt.show()\n",
    "    "
   ]
  },
  {
   "cell_type": "code",
   "execution_count": 6,
   "metadata": {
    "collapsed": false
   },
   "outputs": [
    {
     "data": {
      "image/png": "[encoded data removed]",
      "text/plain": [
       "<matplotlib.figure.Figure at 0x1098193c8>"
      ]
     },
     "metadata": {},
     "output_type": "display_data"
    }
   ],
   "source": [
    "f(100,10000,20)"
   ]
  }
 ],
 "metadata": {
  "kernelspec": {
   "display_name": "Python 3",
   "language": "python",
   "name": "python3"
  },
  "language_info": {
   "codemirror_mode": {
    "name": "ipython",
    "version": 3
   },
   "file_extension": ".py",
   "mimetype": "text/x-python",
   "name": "python",
   "nbconvert_exporter": "python",
   "pygments_lexer": "ipython3",
   "version": "3.6.0"
  }
 },
 "nbformat": 4,
 "nbformat_minor": 2
}
